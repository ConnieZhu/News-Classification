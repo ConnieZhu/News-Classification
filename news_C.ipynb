{
 "cells": [
  {
   "cell_type": "code",
   "execution_count": 1,
   "metadata": {},
   "outputs": [],
   "source": [
    "import pandas as pd\n",
    "import numpy as np\n",
    "import jieba"
   ]
  },
  {
   "cell_type": "code",
   "execution_count": 2,
   "metadata": {},
   "outputs": [
    {
     "data": {
      "text/html": [
       "<div>\n",
       "<style scoped>\n",
       "    .dataframe tbody tr th:only-of-type {\n",
       "        vertical-align: middle;\n",
       "    }\n",
       "\n",
       "    .dataframe tbody tr th {\n",
       "        vertical-align: top;\n",
       "    }\n",
       "\n",
       "    .dataframe thead th {\n",
       "        text-align: right;\n",
       "    }\n",
       "</style>\n",
       "<table border=\"1\" class=\"dataframe\">\n",
       "  <thead>\n",
       "    <tr style=\"text-align: right;\">\n",
       "      <th></th>\n",
       "      <th>category</th>\n",
       "      <th>theme</th>\n",
       "      <th>URL</th>\n",
       "      <th>content</th>\n",
       "    </tr>\n",
       "  </thead>\n",
       "  <tbody>\n",
       "    <tr>\n",
       "      <th>0</th>\n",
       "      <td>汽车</td>\n",
       "      <td>现代飞思现金直降８０００元　现车颜色齐全</td>\n",
       "      <td>http://autos.cn.yahoo.com/ypen/20120610/110144...</td>\n",
       "      <td>近日，编辑从进口现代合肥地区某经销商处了解到，即日起至６月３０日到该店购买现代飞思现金直降８...</td>\n",
       "    </tr>\n",
       "    <tr>\n",
       "      <th>1</th>\n",
       "      <td>汽车</td>\n",
       "      <td>丰田皇冠对问题车型实行“暗召回”</td>\n",
       "      <td>http://autos.cn.yahoo.com/ypen/20120615/111456...</td>\n",
       "      <td>虽然说代表王权的皇冠（车型　配置　图片　报价）并非谁都可以拥有，但皇冠汽车，只要有足够的钞票...</td>\n",
       "    </tr>\n",
       "    <tr>\n",
       "      <th>2</th>\n",
       "      <td>汽车</td>\n",
       "      <td>价格战爆发　京城豪华车日子也不好过</td>\n",
       "      <td>http://autos.cn.yahoo.com/ypen/20120612/110681...</td>\n",
       "      <td>“今年上半年的日子不好过呀！”的确，今年上半年，京城车市并非只是一些自主品牌的日子难熬，之前...</td>\n",
       "    </tr>\n",
       "    <tr>\n",
       "      <th>3</th>\n",
       "      <td>汽车</td>\n",
       "      <td>成都车展一神秘女子买走４００万绝版宾利车</td>\n",
       "      <td>http://autos.cn.yahoo.com/newspic/autos2/5363/...</td>\n",
       "      <td>在宾利展厅，下午４点以前，一款车一直没有揭开真面目，覆盖在车身上的天鹅绒幕布更让人感受到这款...</td>\n",
       "    </tr>\n",
       "    <tr>\n",
       "      <th>4</th>\n",
       "      <td>汽车</td>\n",
       "      <td>通用和欧宝工会拟１１月之前达成重组协议</td>\n",
       "      <td>http://autos.cn.yahoo.com/ypen/20120615/111428...</td>\n",
       "      <td>据外媒消息，通用汽车公司与德国金属工业工会拟在１１月份之前就欧宝重组的问题达成明确协议。５鹿...</td>\n",
       "    </tr>\n",
       "  </tbody>\n",
       "</table>\n",
       "</div>"
      ],
      "text/plain": [
       "  category                 theme  \\\n",
       "0       汽车  现代飞思现金直降８０００元　现车颜色齐全   \n",
       "1       汽车      丰田皇冠对问题车型实行“暗召回”   \n",
       "2       汽车     价格战爆发　京城豪华车日子也不好过   \n",
       "3       汽车  成都车展一神秘女子买走４００万绝版宾利车   \n",
       "4       汽车   通用和欧宝工会拟１１月之前达成重组协议   \n",
       "\n",
       "                                                 URL  \\\n",
       "0  http://autos.cn.yahoo.com/ypen/20120610/110144...   \n",
       "1  http://autos.cn.yahoo.com/ypen/20120615/111456...   \n",
       "2  http://autos.cn.yahoo.com/ypen/20120612/110681...   \n",
       "3  http://autos.cn.yahoo.com/newspic/autos2/5363/...   \n",
       "4  http://autos.cn.yahoo.com/ypen/20120615/111428...   \n",
       "\n",
       "                                             content  \n",
       "0  近日，编辑从进口现代合肥地区某经销商处了解到，即日起至６月３０日到该店购买现代飞思现金直降８...  \n",
       "1  虽然说代表王权的皇冠（车型　配置　图片　报价）并非谁都可以拥有，但皇冠汽车，只要有足够的钞票...  \n",
       "2  “今年上半年的日子不好过呀！”的确，今年上半年，京城车市并非只是一些自主品牌的日子难熬，之前...  \n",
       "3  在宾利展厅，下午４点以前，一款车一直没有揭开真面目，覆盖在车身上的天鹅绒幕布更让人感受到这款...  \n",
       "4  据外媒消息，通用汽车公司与德国金属工业工会拟在１１月份之前就欧宝重组的问题达成明确协议。５鹿...  "
      ]
     },
     "execution_count": 2,
     "metadata": {},
     "output_type": "execute_result"
    }
   ],
   "source": [
    "df_news = pd.read_table('train.txt',names=['category','theme','URL','content'],encoding='utf-8')\n",
    "df_news = df_news.dropna()\n",
    "df_news.head()"
   ]
  },
  {
   "cell_type": "code",
   "execution_count": 3,
   "metadata": {},
   "outputs": [
    {
     "data": {
      "text/plain": [
       "(50000, 4)"
      ]
     },
     "execution_count": 3,
     "metadata": {},
     "output_type": "execute_result"
    }
   ],
   "source": [
    "df_news.shape"
   ]
  },
  {
   "cell_type": "markdown",
   "metadata": {},
   "source": [
    "###  Tokenization：Use jieba tokenizer ###"
   ]
  },
  {
   "cell_type": "code",
   "execution_count": 4,
   "metadata": {},
   "outputs": [
    {
     "name": "stdout",
     "output_type": "stream",
     "text": [
      "继北京、上海、贵阳之后，广州成为全国第四个推出汽车限购令的城市。从昨天起，广州开始实施“中小客车总量调控交通政策”，试行一年。０凑展阒菔姓府的规定，试行期内，全市中小客车增量配额为１２万辆，按照每月１万辆进行配置，这个时期，机关、企业事业单位、社会团体及其他组织和个人购车时，必须取得配置指标后方可办理牌照登记。＃吩拢踩眨保暗悖主持人大民和中国汽车流通协会常务理事贾新光带来评论：汽车限购风可能席卷全国，车市增长堪忧。\n"
     ]
    }
   ],
   "source": [
    "content = df_news.content.values.tolist()\n",
    "print (content[2000])"
   ]
  },
  {
   "cell_type": "code",
   "execution_count": 5,
   "metadata": {},
   "outputs": [
    {
     "name": "stderr",
     "output_type": "stream",
     "text": [
      "Building prefix dict from the default dictionary ...\n",
      "Loading model from cache /tmp/jieba.cache\n",
      "Loading model cost 0.626 seconds.\n",
      "Prefix dict has been built successfully.\n"
     ]
    }
   ],
   "source": [
    "content_S = []\n",
    "for line in content:\n",
    "    current_segment = jieba.lcut(line)\n",
    "    if len(current_segment) > 1 and current_segment != '\\r\\n': #换行符\n",
    "        content_S.append(current_segment)"
   ]
  },
  {
   "cell_type": "code",
   "execution_count": 6,
   "metadata": {
    "scrolled": true
   },
   "outputs": [
    {
     "data": {
      "text/plain": [
       "['Ｍ',\n",
       " 'ｉ',\n",
       " 'ｎ',\n",
       " 'ｉ',\n",
       " '\\u3000',\n",
       " 'Ｍ',\n",
       " 'Ｉ',\n",
       " 'Ｎ',\n",
       " 'Ｉ',\n",
       " '\\u3000',\n",
       " 'Ｃ',\n",
       " 'ｏ',\n",
       " 'ｏ',\n",
       " 'ｐ',\n",
       " 'ｅ',\n",
       " 'ｒ',\n",
       " '\\u3000',\n",
       " 'Ｃ',\n",
       " 'ａ',\n",
       " 'ｂ',\n",
       " 'ｒ',\n",
       " 'ｉ',\n",
       " 'ｏ']"
      ]
     },
     "execution_count": 6,
     "metadata": {},
     "output_type": "execute_result"
    }
   ],
   "source": [
    "content_S[1000]"
   ]
  },
  {
   "cell_type": "code",
   "execution_count": 7,
   "metadata": {},
   "outputs": [
    {
     "data": {
      "text/html": [
       "<div>\n",
       "<style scoped>\n",
       "    .dataframe tbody tr th:only-of-type {\n",
       "        vertical-align: middle;\n",
       "    }\n",
       "\n",
       "    .dataframe tbody tr th {\n",
       "        vertical-align: top;\n",
       "    }\n",
       "\n",
       "    .dataframe thead th {\n",
       "        text-align: right;\n",
       "    }\n",
       "</style>\n",
       "<table border=\"1\" class=\"dataframe\">\n",
       "  <thead>\n",
       "    <tr style=\"text-align: right;\">\n",
       "      <th></th>\n",
       "      <th>content_S</th>\n",
       "    </tr>\n",
       "  </thead>\n",
       "  <tbody>\n",
       "    <tr>\n",
       "      <th>0</th>\n",
       "      <td>[近日, ，, 编辑, 从, 进口, 现代, 合肥, 地区, 某, 经销商, 处, 了解, ...</td>\n",
       "    </tr>\n",
       "    <tr>\n",
       "      <th>1</th>\n",
       "      <td>[虽然, 说, 代表, 王权, 的, 皇冠, （, 车型, 　, 配置, 　, 图片, 　,...</td>\n",
       "    </tr>\n",
       "    <tr>\n",
       "      <th>2</th>\n",
       "      <td>[“, 今年, 上半年, 的, 日子, 不好过, 呀, ！, ”, 的确, ，, 今年, 上...</td>\n",
       "    </tr>\n",
       "    <tr>\n",
       "      <th>3</th>\n",
       "      <td>[在, 宾利, 展厅, ，, 下午, ４, 点, 以前, ，, 一款, 车, 一直, 没有,...</td>\n",
       "    </tr>\n",
       "    <tr>\n",
       "      <th>4</th>\n",
       "      <td>[据, 外媒, 消息, ，, 通用汽车公司, 与, 德国, 金属, 工业, 工会, 拟, 在...</td>\n",
       "    </tr>\n",
       "  </tbody>\n",
       "</table>\n",
       "</div>"
      ],
      "text/plain": [
       "                                           content_S\n",
       "0  [近日, ，, 编辑, 从, 进口, 现代, 合肥, 地区, 某, 经销商, 处, 了解, ...\n",
       "1  [虽然, 说, 代表, 王权, 的, 皇冠, （, 车型, 　, 配置, 　, 图片, 　,...\n",
       "2  [“, 今年, 上半年, 的, 日子, 不好过, 呀, ！, ”, 的确, ，, 今年, 上...\n",
       "3  [在, 宾利, 展厅, ，, 下午, ４, 点, 以前, ，, 一款, 车, 一直, 没有,...\n",
       "4  [据, 外媒, 消息, ，, 通用汽车公司, 与, 德国, 金属, 工业, 工会, 拟, 在..."
      ]
     },
     "execution_count": 7,
     "metadata": {},
     "output_type": "execute_result"
    }
   ],
   "source": [
    "df_content=pd.DataFrame({'content_S':content_S})\n",
    "df_content.head()"
   ]
  },
  {
   "cell_type": "code",
   "execution_count": 8,
   "metadata": {
    "scrolled": true
   },
   "outputs": [
    {
     "data": {
      "text/html": [
       "<div>\n",
       "<style scoped>\n",
       "    .dataframe tbody tr th:only-of-type {\n",
       "        vertical-align: middle;\n",
       "    }\n",
       "\n",
       "    .dataframe tbody tr th {\n",
       "        vertical-align: top;\n",
       "    }\n",
       "\n",
       "    .dataframe thead th {\n",
       "        text-align: right;\n",
       "    }\n",
       "</style>\n",
       "<table border=\"1\" class=\"dataframe\">\n",
       "  <thead>\n",
       "    <tr style=\"text-align: right;\">\n",
       "      <th></th>\n",
       "      <th>stopword</th>\n",
       "    </tr>\n",
       "  </thead>\n",
       "  <tbody>\n",
       "    <tr>\n",
       "      <th>0</th>\n",
       "      <td>!</td>\n",
       "    </tr>\n",
       "    <tr>\n",
       "      <th>1</th>\n",
       "      <td>\"</td>\n",
       "    </tr>\n",
       "    <tr>\n",
       "      <th>2</th>\n",
       "      <td>#</td>\n",
       "    </tr>\n",
       "    <tr>\n",
       "      <th>3</th>\n",
       "      <td>$</td>\n",
       "    </tr>\n",
       "    <tr>\n",
       "      <th>4</th>\n",
       "      <td>%</td>\n",
       "    </tr>\n",
       "    <tr>\n",
       "      <th>5</th>\n",
       "      <td>&amp;</td>\n",
       "    </tr>\n",
       "    <tr>\n",
       "      <th>6</th>\n",
       "      <td>'</td>\n",
       "    </tr>\n",
       "    <tr>\n",
       "      <th>7</th>\n",
       "      <td>(</td>\n",
       "    </tr>\n",
       "    <tr>\n",
       "      <th>8</th>\n",
       "      <td>)</td>\n",
       "    </tr>\n",
       "    <tr>\n",
       "      <th>9</th>\n",
       "      <td>*</td>\n",
       "    </tr>\n",
       "    <tr>\n",
       "      <th>10</th>\n",
       "      <td>+</td>\n",
       "    </tr>\n",
       "    <tr>\n",
       "      <th>11</th>\n",
       "      <td>,</td>\n",
       "    </tr>\n",
       "    <tr>\n",
       "      <th>12</th>\n",
       "      <td>﹔</td>\n",
       "    </tr>\n",
       "    <tr>\n",
       "      <th>13</th>\n",
       "      <td>┑</td>\n",
       "    </tr>\n",
       "    <tr>\n",
       "      <th>14</th>\n",
       "      <td>＂</td>\n",
       "    </tr>\n",
       "    <tr>\n",
       "      <th>15</th>\n",
       "      <td>-</td>\n",
       "    </tr>\n",
       "    <tr>\n",
       "      <th>16</th>\n",
       "      <td>--</td>\n",
       "    </tr>\n",
       "    <tr>\n",
       "      <th>17</th>\n",
       "      <td>.</td>\n",
       "    </tr>\n",
       "    <tr>\n",
       "      <th>18</th>\n",
       "      <td>..</td>\n",
       "    </tr>\n",
       "    <tr>\n",
       "      <th>19</th>\n",
       "      <td>...</td>\n",
       "    </tr>\n",
       "  </tbody>\n",
       "</table>\n",
       "</div>"
      ],
      "text/plain": [
       "   stopword\n",
       "0         !\n",
       "1         \"\n",
       "2         #\n",
       "3         $\n",
       "4         %\n",
       "5         &\n",
       "6         '\n",
       "7         (\n",
       "8         )\n",
       "9         *\n",
       "10        +\n",
       "11        ,\n",
       "12        ﹔\n",
       "13        ┑\n",
       "14        ＂\n",
       "15        -\n",
       "16       --\n",
       "17        .\n",
       "18       ..\n",
       "19      ..."
      ]
     },
     "execution_count": 8,
     "metadata": {},
     "output_type": "execute_result"
    }
   ],
   "source": [
    "stopwords=pd.read_csv(\"stopwords.txt\",index_col=False,sep=\"\\t\",quoting=3,names=['stopword'])\n",
    "stopwords[:20]"
   ]
  },
  {
   "cell_type": "code",
   "execution_count": 9,
   "metadata": {},
   "outputs": [],
   "source": [
    "def drop_stopwords(contents,stopwords):\n",
    "    contents_clean = []\n",
    "    all_words = []\n",
    "    for line in contents:\n",
    "        line_clean = []\n",
    "        for word in line:\n",
    "            if word in stopwords or word.isdigit() or not word.isalpha():\n",
    "                continue\n",
    "            line_clean.append(word)\n",
    "            all_words.append(str(word))\n",
    "        contents_clean.append(line_clean)\n",
    "    return contents_clean,all_words\n",
    "\n",
    "contents = df_content.content_S.values.tolist()    \n",
    "stopwords = stopwords.stopword.values.tolist()\n",
    "contents_clean,all_words = drop_stopwords(contents,stopwords)"
   ]
  },
  {
   "cell_type": "code",
   "execution_count": 10,
   "metadata": {},
   "outputs": [
    {
     "data": {
      "text/html": [
       "<div>\n",
       "<style scoped>\n",
       "    .dataframe tbody tr th:only-of-type {\n",
       "        vertical-align: middle;\n",
       "    }\n",
       "\n",
       "    .dataframe tbody tr th {\n",
       "        vertical-align: top;\n",
       "    }\n",
       "\n",
       "    .dataframe thead th {\n",
       "        text-align: right;\n",
       "    }\n",
       "</style>\n",
       "<table border=\"1\" class=\"dataframe\">\n",
       "  <thead>\n",
       "    <tr style=\"text-align: right;\">\n",
       "      <th></th>\n",
       "      <th>contents_clean</th>\n",
       "    </tr>\n",
       "  </thead>\n",
       "  <tbody>\n",
       "    <tr>\n",
       "      <th>0</th>\n",
       "      <td>[编辑, 进口, 合肥, 地区, 经销商, 处, 即日起, 日到, 该店, 购买, 飞思, ...</td>\n",
       "    </tr>\n",
       "    <tr>\n",
       "      <th>1</th>\n",
       "      <td>[代表, 王权, 皇冠, 车型, 配置, 图片, 报价, 拥有, 皇冠, 汽车, 足够, 钞...</td>\n",
       "    </tr>\n",
       "    <tr>\n",
       "      <th>2</th>\n",
       "      <td>[上半年, 日子, 不好过, 上半年, 京城, 车市, 自主, 品牌, 日子, 难熬, 羡慕...</td>\n",
       "    </tr>\n",
       "    <tr>\n",
       "      <th>3</th>\n",
       "      <td>[宾利, 展厅, 一款, 车, 揭开, 真面目, 覆盖, 车, 身上, 天鹅绒, 幕布, 更...</td>\n",
       "    </tr>\n",
       "    <tr>\n",
       "      <th>4</th>\n",
       "      <td>[外媒, 通用汽车公司, 德国, 金属, 工业, 工会, 拟, 月份, 欧宝, 重组, 达成...</td>\n",
       "    </tr>\n",
       "  </tbody>\n",
       "</table>\n",
       "</div>"
      ],
      "text/plain": [
       "                                      contents_clean\n",
       "0  [编辑, 进口, 合肥, 地区, 经销商, 处, 即日起, 日到, 该店, 购买, 飞思, ...\n",
       "1  [代表, 王权, 皇冠, 车型, 配置, 图片, 报价, 拥有, 皇冠, 汽车, 足够, 钞...\n",
       "2  [上半年, 日子, 不好过, 上半年, 京城, 车市, 自主, 品牌, 日子, 难熬, 羡慕...\n",
       "3  [宾利, 展厅, 一款, 车, 揭开, 真面目, 覆盖, 车, 身上, 天鹅绒, 幕布, 更...\n",
       "4  [外媒, 通用汽车公司, 德国, 金属, 工业, 工会, 拟, 月份, 欧宝, 重组, 达成..."
      ]
     },
     "execution_count": 10,
     "metadata": {},
     "output_type": "execute_result"
    }
   ],
   "source": [
    "df_content=pd.DataFrame({'contents_clean':contents_clean})\n",
    "df_content.head()"
   ]
  },
  {
   "cell_type": "code",
   "execution_count": 11,
   "metadata": {},
   "outputs": [
    {
     "data": {
      "text/html": [
       "<div>\n",
       "<style scoped>\n",
       "    .dataframe tbody tr th:only-of-type {\n",
       "        vertical-align: middle;\n",
       "    }\n",
       "\n",
       "    .dataframe tbody tr th {\n",
       "        vertical-align: top;\n",
       "    }\n",
       "\n",
       "    .dataframe thead th {\n",
       "        text-align: right;\n",
       "    }\n",
       "</style>\n",
       "<table border=\"1\" class=\"dataframe\">\n",
       "  <thead>\n",
       "    <tr style=\"text-align: right;\">\n",
       "      <th></th>\n",
       "      <th>all_words</th>\n",
       "    </tr>\n",
       "  </thead>\n",
       "  <tbody>\n",
       "    <tr>\n",
       "      <th>0</th>\n",
       "      <td>编辑</td>\n",
       "    </tr>\n",
       "    <tr>\n",
       "      <th>1</th>\n",
       "      <td>进口</td>\n",
       "    </tr>\n",
       "    <tr>\n",
       "      <th>2</th>\n",
       "      <td>合肥</td>\n",
       "    </tr>\n",
       "    <tr>\n",
       "      <th>3</th>\n",
       "      <td>地区</td>\n",
       "    </tr>\n",
       "    <tr>\n",
       "      <th>4</th>\n",
       "      <td>经销商</td>\n",
       "    </tr>\n",
       "  </tbody>\n",
       "</table>\n",
       "</div>"
      ],
      "text/plain": [
       "  all_words\n",
       "0        编辑\n",
       "1        进口\n",
       "2        合肥\n",
       "3        地区\n",
       "4       经销商"
      ]
     },
     "execution_count": 11,
     "metadata": {},
     "output_type": "execute_result"
    }
   ],
   "source": [
    "df_all_words=pd.DataFrame({'all_words':all_words})\n",
    "df_all_words.head()"
   ]
  },
  {
   "cell_type": "code",
   "execution_count": 12,
   "metadata": {},
   "outputs": [
    {
     "data": {
      "text/html": [
       "<div>\n",
       "<style scoped>\n",
       "    .dataframe tbody tr th:only-of-type {\n",
       "        vertical-align: middle;\n",
       "    }\n",
       "\n",
       "    .dataframe tbody tr th {\n",
       "        vertical-align: top;\n",
       "    }\n",
       "\n",
       "    .dataframe thead th {\n",
       "        text-align: right;\n",
       "    }\n",
       "</style>\n",
       "<table border=\"1\" class=\"dataframe\">\n",
       "  <thead>\n",
       "    <tr style=\"text-align: right;\">\n",
       "      <th></th>\n",
       "      <th>all_words</th>\n",
       "      <th>count</th>\n",
       "    </tr>\n",
       "  </thead>\n",
       "  <tbody>\n",
       "    <tr>\n",
       "      <th>38903</th>\n",
       "      <td>公司</td>\n",
       "      <td>17308</td>\n",
       "    </tr>\n",
       "    <tr>\n",
       "      <th>160445</th>\n",
       "      <td>时间</td>\n",
       "      <td>13665</td>\n",
       "    </tr>\n",
       "    <tr>\n",
       "      <th>110993</th>\n",
       "      <td>工作</td>\n",
       "      <td>12721</td>\n",
       "    </tr>\n",
       "    <tr>\n",
       "      <th>184857</th>\n",
       "      <td>比赛</td>\n",
       "      <td>11837</td>\n",
       "    </tr>\n",
       "    <tr>\n",
       "      <th>54614</th>\n",
       "      <td>北京</td>\n",
       "      <td>11482</td>\n",
       "    </tr>\n",
       "  </tbody>\n",
       "</table>\n",
       "</div>"
      ],
      "text/plain": [
       "       all_words  count\n",
       "38903         公司  17308\n",
       "160445        时间  13665\n",
       "110993        工作  12721\n",
       "184857        比赛  11837\n",
       "54614         北京  11482"
      ]
     },
     "execution_count": 12,
     "metadata": {},
     "output_type": "execute_result"
    }
   ],
   "source": [
    "words_count=df_all_words.groupby(by=['all_words'])['all_words'].agg('count')\n",
    "words_count = words_count.to_frame()\n",
    "words_count.columns=['count']\n",
    "words_count = words_count.reset_index().sort_values(by=[\"count\"],ascending=False)\n",
    "words_count.head()"
   ]
  },
  {
   "cell_type": "code",
   "execution_count": 13,
   "metadata": {
    "scrolled": true
   },
   "outputs": [
    {
     "data": {
      "text/html": [
       "<div>\n",
       "<style scoped>\n",
       "    .dataframe tbody tr th:only-of-type {\n",
       "        vertical-align: middle;\n",
       "    }\n",
       "\n",
       "    .dataframe tbody tr th {\n",
       "        vertical-align: top;\n",
       "    }\n",
       "\n",
       "    .dataframe thead th {\n",
       "        text-align: right;\n",
       "    }\n",
       "</style>\n",
       "<table border=\"1\" class=\"dataframe\">\n",
       "  <thead>\n",
       "    <tr style=\"text-align: right;\">\n",
       "      <th></th>\n",
       "      <th>all_words</th>\n",
       "      <th>count</th>\n",
       "    </tr>\n",
       "  </thead>\n",
       "  <tbody>\n",
       "    <tr>\n",
       "      <th>38903</th>\n",
       "      <td>公司</td>\n",
       "      <td>17308</td>\n",
       "    </tr>\n",
       "    <tr>\n",
       "      <th>160445</th>\n",
       "      <td>时间</td>\n",
       "      <td>13665</td>\n",
       "    </tr>\n",
       "    <tr>\n",
       "      <th>110993</th>\n",
       "      <td>工作</td>\n",
       "      <td>12721</td>\n",
       "    </tr>\n",
       "    <tr>\n",
       "      <th>184857</th>\n",
       "      <td>比赛</td>\n",
       "      <td>11837</td>\n",
       "    </tr>\n",
       "    <tr>\n",
       "      <th>54614</th>\n",
       "      <td>北京</td>\n",
       "      <td>11482</td>\n",
       "    </tr>\n",
       "    <tr>\n",
       "      <th>248716</th>\n",
       "      <td>美国</td>\n",
       "      <td>11399</td>\n",
       "    </tr>\n",
       "    <tr>\n",
       "      <th>50482</th>\n",
       "      <td>前</td>\n",
       "      <td>11376</td>\n",
       "    </tr>\n",
       "    <tr>\n",
       "      <th>292106</th>\n",
       "      <td>车型</td>\n",
       "      <td>11205</td>\n",
       "    </tr>\n",
       "    <tr>\n",
       "      <th>23546</th>\n",
       "      <td>企业</td>\n",
       "      <td>11051</td>\n",
       "    </tr>\n",
       "    <tr>\n",
       "      <th>131908</th>\n",
       "      <td>情况</td>\n",
       "      <td>10379</td>\n",
       "    </tr>\n",
       "    <tr>\n",
       "      <th>18513</th>\n",
       "      <td>产品</td>\n",
       "      <td>9997</td>\n",
       "    </tr>\n",
       "    <tr>\n",
       "      <th>98857</th>\n",
       "      <td>孩子</td>\n",
       "      <td>9977</td>\n",
       "    </tr>\n",
       "    <tr>\n",
       "      <th>328961</th>\n",
       "      <td>高</td>\n",
       "      <td>9882</td>\n",
       "    </tr>\n",
       "    <tr>\n",
       "      <th>98747</th>\n",
       "      <td>学生</td>\n",
       "      <td>9828</td>\n",
       "    </tr>\n",
       "    <tr>\n",
       "      <th>63169</th>\n",
       "      <td>发现</td>\n",
       "      <td>8925</td>\n",
       "    </tr>\n",
       "    <tr>\n",
       "      <th>188404</th>\n",
       "      <td>汽车</td>\n",
       "      <td>8897</td>\n",
       "    </tr>\n",
       "    <tr>\n",
       "      <th>23130</th>\n",
       "      <td>价格</td>\n",
       "      <td>8577</td>\n",
       "    </tr>\n",
       "    <tr>\n",
       "      <th>124374</th>\n",
       "      <td>影响</td>\n",
       "      <td>8492</td>\n",
       "    </tr>\n",
       "    <tr>\n",
       "      <th>79970</th>\n",
       "      <td>国家</td>\n",
       "      <td>8404</td>\n",
       "    </tr>\n",
       "    <tr>\n",
       "      <th>243933</th>\n",
       "      <td>经济</td>\n",
       "      <td>8338</td>\n",
       "    </tr>\n",
       "    <tr>\n",
       "      <th>140202</th>\n",
       "      <td>投资</td>\n",
       "      <td>8242</td>\n",
       "    </tr>\n",
       "    <tr>\n",
       "      <th>98712</th>\n",
       "      <td>学校</td>\n",
       "      <td>8233</td>\n",
       "    </tr>\n",
       "    <tr>\n",
       "      <th>85434</th>\n",
       "      <td>增长</td>\n",
       "      <td>7680</td>\n",
       "    </tr>\n",
       "    <tr>\n",
       "      <th>148951</th>\n",
       "      <td>提供</td>\n",
       "      <td>7492</td>\n",
       "    </tr>\n",
       "    <tr>\n",
       "      <th>278906</th>\n",
       "      <td>设计</td>\n",
       "      <td>7412</td>\n",
       "    </tr>\n",
       "    <tr>\n",
       "      <th>299322</th>\n",
       "      <td>选择</td>\n",
       "      <td>7360</td>\n",
       "    </tr>\n",
       "    <tr>\n",
       "      <th>113556</th>\n",
       "      <td>希望</td>\n",
       "      <td>7291</td>\n",
       "    </tr>\n",
       "    <tr>\n",
       "      <th>153667</th>\n",
       "      <td>教育</td>\n",
       "      <td>7185</td>\n",
       "    </tr>\n",
       "    <tr>\n",
       "      <th>139587</th>\n",
       "      <td>技术</td>\n",
       "      <td>7019</td>\n",
       "    </tr>\n",
       "    <tr>\n",
       "      <th>192815</th>\n",
       "      <td>活动</td>\n",
       "      <td>7003</td>\n",
       "    </tr>\n",
       "    <tr>\n",
       "      <th>84321</th>\n",
       "      <td>基金</td>\n",
       "      <td>6876</td>\n",
       "    </tr>\n",
       "    <tr>\n",
       "      <th>251047</th>\n",
       "      <td>考生</td>\n",
       "      <td>6781</td>\n",
       "    </tr>\n",
       "    <tr>\n",
       "      <th>273690</th>\n",
       "      <td>表现</td>\n",
       "      <td>6770</td>\n",
       "    </tr>\n",
       "    <tr>\n",
       "      <th>228215</th>\n",
       "      <td>研究</td>\n",
       "      <td>6708</td>\n",
       "    </tr>\n",
       "    <tr>\n",
       "      <th>74211</th>\n",
       "      <td>品牌</td>\n",
       "      <td>6684</td>\n",
       "    </tr>\n",
       "    <tr>\n",
       "      <th>216318</th>\n",
       "      <td>生活</td>\n",
       "      <td>6671</td>\n",
       "    </tr>\n",
       "    <tr>\n",
       "      <th>256365</th>\n",
       "      <td>能力</td>\n",
       "      <td>6656</td>\n",
       "    </tr>\n",
       "    <tr>\n",
       "      <th>310238</th>\n",
       "      <td>销售</td>\n",
       "      <td>6653</td>\n",
       "    </tr>\n",
       "    <tr>\n",
       "      <th>277508</th>\n",
       "      <td>计划</td>\n",
       "      <td>6640</td>\n",
       "    </tr>\n",
       "    <tr>\n",
       "      <th>166432</th>\n",
       "      <td>服务</td>\n",
       "      <td>6559</td>\n",
       "    </tr>\n",
       "    <tr>\n",
       "      <th>224548</th>\n",
       "      <td>相关</td>\n",
       "      <td>6546</td>\n",
       "    </tr>\n",
       "    <tr>\n",
       "      <th>162131</th>\n",
       "      <td>显示</td>\n",
       "      <td>6481</td>\n",
       "    </tr>\n",
       "    <tr>\n",
       "      <th>240473</th>\n",
       "      <td>系统</td>\n",
       "      <td>6441</td>\n",
       "    </tr>\n",
       "    <tr>\n",
       "      <th>141208</th>\n",
       "      <td>报道</td>\n",
       "      <td>6380</td>\n",
       "    </tr>\n",
       "    <tr>\n",
       "      <th>80346</th>\n",
       "      <td>国际</td>\n",
       "      <td>6194</td>\n",
       "    </tr>\n",
       "    <tr>\n",
       "      <th>85304</th>\n",
       "      <td>增加</td>\n",
       "      <td>6161</td>\n",
       "    </tr>\n",
       "    <tr>\n",
       "      <th>157306</th>\n",
       "      <td>方式</td>\n",
       "      <td>6149</td>\n",
       "    </tr>\n",
       "    <tr>\n",
       "      <th>289569</th>\n",
       "      <td>超过</td>\n",
       "      <td>6020</td>\n",
       "    </tr>\n",
       "    <tr>\n",
       "      <th>310042</th>\n",
       "      <td>银行</td>\n",
       "      <td>5916</td>\n",
       "    </tr>\n",
       "    <tr>\n",
       "      <th>79858</th>\n",
       "      <td>国内</td>\n",
       "      <td>5857</td>\n",
       "    </tr>\n",
       "  </tbody>\n",
       "</table>\n",
       "</div>"
      ],
      "text/plain": [
       "       all_words  count\n",
       "38903         公司  17308\n",
       "160445        时间  13665\n",
       "110993        工作  12721\n",
       "184857        比赛  11837\n",
       "54614         北京  11482\n",
       "248716        美国  11399\n",
       "50482          前  11376\n",
       "292106        车型  11205\n",
       "23546         企业  11051\n",
       "131908        情况  10379\n",
       "18513         产品   9997\n",
       "98857         孩子   9977\n",
       "328961         高   9882\n",
       "98747         学生   9828\n",
       "63169         发现   8925\n",
       "188404        汽车   8897\n",
       "23130         价格   8577\n",
       "124374        影响   8492\n",
       "79970         国家   8404\n",
       "243933        经济   8338\n",
       "140202        投资   8242\n",
       "98712         学校   8233\n",
       "85434         增长   7680\n",
       "148951        提供   7492\n",
       "278906        设计   7412\n",
       "299322        选择   7360\n",
       "113556        希望   7291\n",
       "153667        教育   7185\n",
       "139587        技术   7019\n",
       "192815        活动   7003\n",
       "84321         基金   6876\n",
       "251047        考生   6781\n",
       "273690        表现   6770\n",
       "228215        研究   6708\n",
       "74211         品牌   6684\n",
       "216318        生活   6671\n",
       "256365        能力   6656\n",
       "310238        销售   6653\n",
       "277508        计划   6640\n",
       "166432        服务   6559\n",
       "224548        相关   6546\n",
       "162131        显示   6481\n",
       "240473        系统   6441\n",
       "141208        报道   6380\n",
       "80346         国际   6194\n",
       "85304         增加   6161\n",
       "157306        方式   6149\n",
       "289569        超过   6020\n",
       "310042        银行   5916\n",
       "79858         国内   5857"
      ]
     },
     "execution_count": 13,
     "metadata": {},
     "output_type": "execute_result"
    }
   ],
   "source": [
    "words_count[:50]"
   ]
  },
  {
   "cell_type": "code",
   "execution_count": 14,
   "metadata": {},
   "outputs": [
    {
     "data": {
      "text/plain": [
       "<matplotlib.image.AxesImage at 0x7f6e5f37f550>"
      ]
     },
     "execution_count": 14,
     "metadata": {},
     "output_type": "execute_result"
    },
    {
     "data": {
      "image/png": "[encoded data removed]",
      "text/plain": [
       "<Figure size 720x360 with 1 Axes>"
      ]
     },
     "metadata": {
      "needs_background": "light"
     },
     "output_type": "display_data"
    }
   ],
   "source": [
    "from wordcloud import WordCloud\n",
    "import matplotlib.pyplot as plt\n",
    "%matplotlib inline\n",
    "import matplotlib\n",
    "matplotlib.rcParams['figure.figsize'] = (10.0, 5.0)\n",
    "\n",
    "wordcloud=WordCloud(font_path=\"simhei.ttf\",background_color=\"white\",max_font_size=80)\n",
    "word_frequence = {x[0]:x[1] for x in words_count.head(100).values}\n",
    "wordcloud=wordcloud.fit_words(word_frequence)\n",
    "plt.imshow(wordcloud)"
   ]
  },
  {
   "cell_type": "markdown",
   "metadata": {},
   "source": [
    "###  TF-IDF ：Extract Key Words ###"
   ]
  },
  {
   "cell_type": "code",
   "execution_count": 15,
   "metadata": {
    "scrolled": true
   },
   "outputs": [
    {
     "name": "stdout",
     "output_type": "stream",
     "text": [
      "“整个广州骂声一片”，对于广州出台的汽车限购措施，一位广州的朋友说。Ｆ涫担在北京实行汽车限购措施之后，大家对广州等大城市实行汽车限购早已有心理准备。今年两会期间，广汽集团总经理曾庆洪就曾坦言：城市的汽车和道路、能源、环境等社会环境系统如果不能协调发展，不管是深圳还是广州，迟早都得限购。５是，广州的汽车限购仍然迎来了“骂声一片”。Ｔ因主要有两个，第一，大家对于广州是不是非限不可心存疑问。汽车行业对于北京的限购虽颇有微词，但北京“首堵”的形象已经深入人心，总有些“不限真不行”的同情。广州汽车保有量不及北京一半，每月销量也仅仅达到北京限购之后的数量。对这样的情况采取限购措施来治理拥堵，难免有方式方法过于简单粗暴的嫌疑。５诙，虽然广州的限购政策将基本参照北京的措施，但是广州限购带来的示范效应可能远远超过北京。北京的限购带来的示范效果，各城市多是有心模仿但总觉得心虚，毕竟那是拥有４００多万辆车的首都。广州限购之后，情况可能发生变化，毕竟与广州情况类似的城市更多一些。业界对于广州限购带来的后果非常担心。５比唬汽车行业对于广州限购的不满还有一个原因，那就是北京汽车限购政策是在车市快速增长时出台，而现在车市低迷，广州的限购颇有些落井下石的味道。Ｆ车社会来临，城市拥堵是一个国际难题。更快的发展公共交通，更好的城市和道路规划是全球通用的解决办法，我国也不能例外，不能简单地一限了之。消费者买不买车是纯粹的市场问题，应该交给市场去解决。（袁涛）\n",
      "限购  广州  北京  汽车  城市\n"
     ]
    }
   ],
   "source": [
    "import jieba.analyse\n",
    "index = 2400\n",
    "print (df_news['content'][index])\n",
    "content_S_str = \"\".join(content_S[index])  \n",
    "print (\"  \".join(jieba.analyse.extract_tags(content_S_str, topK=5, withWeight=False)))"
   ]
  },
  {
   "cell_type": "markdown",
   "metadata": {},
   "source": [
    "###  LDA \n",
    "\n",
    "Requirement：list of list format"
   ]
  },
  {
   "cell_type": "code",
   "execution_count": 16,
   "metadata": {},
   "outputs": [],
   "source": [
    "from gensim import corpora, models, similarities\n",
    "import gensim\n",
    "#http://radimrehurek.com/gensim/"
   ]
  },
  {
   "cell_type": "code",
   "execution_count": 17,
   "metadata": {},
   "outputs": [],
   "source": [
    "# mapping: get a bag of words\n",
    "dictionary = corpora.Dictionary(contents_clean)\n",
    "corpus = [dictionary.doc2bow(word) for word in contents_clean]"
   ]
  },
  {
   "cell_type": "code",
   "execution_count": 18,
   "metadata": {},
   "outputs": [],
   "source": [
    "lda = gensim.models.ldamodel.LdaModel(corpus=corpus, id2word=dictionary, num_topics=20) "
   ]
  },
  {
   "cell_type": "code",
   "execution_count": 19,
   "metadata": {},
   "outputs": [
    {
     "name": "stdout",
     "output_type": "stream",
     "text": [
      "0.010*\"合作\" + 0.009*\"日本\" + 0.009*\"国际\" + 0.007*\"俄罗斯\" + 0.007*\"公司\"\n"
     ]
    }
   ],
   "source": [
    "# No. 1 cluster \n",
    "print (lda.print_topic(1, topn=5))"
   ]
  },
  {
   "cell_type": "code",
   "execution_count": 20,
   "metadata": {},
   "outputs": [
    {
     "name": "stdout",
     "output_type": "stream",
     "text": [
      "0.051*\"作品\" + 0.023*\"直升机\" + 0.016*\"战机\" + 0.016*\"乳房\" + 0.015*\"拍\"\n",
      "0.010*\"合作\" + 0.009*\"日本\" + 0.009*\"国际\" + 0.007*\"俄罗斯\" + 0.007*\"公司\"\n",
      "0.020*\"背部\" + 0.018*\"警方\" + 0.013*\"手臂\" + 0.011*\"法国\" + 0.010*\"乌克兰\"\n",
      "0.007*\"孩子\" + 0.007*\"电影\" + 0.005*\"生活\" + 0.005*\"演员\" + 0.004*\"影片\"\n",
      "0.024*\"设计\" + 0.022*\"载人\" + 0.021*\"航天\" + 0.021*\"来源\" + 0.018*\"一号\"\n",
      "0.009*\"工作\" + 0.008*\"教育\" + 0.006*\"文化\" + 0.006*\"社会\" + 0.006*\"国家\"\n",
      "0.046*\"婚姻\" + 0.032*\"恋情\" + 0.031*\"女友\" + 0.025*\"小姐\" + 0.023*\"越南\"\n",
      "0.041*\"海军\" + 0.023*\"颍\" + 0.023*\"珠宝\" + 0.012*\"ｘ\" + 0.011*\"Ｙ\"\n",
      "0.010*\"增长\" + 0.008*\"收入\" + 0.007*\"校园\" + 0.007*\"女孩子\" + 0.007*\"全国\"\n",
      "0.005*\"网友\" + 0.004*\"工作\" + 0.003*\"微博\" + 0.003*\"老师\" + 0.003*\"武警\"\n",
      "0.034*\"减肥\" + 0.021*\"教师\" + 0.020*\"影视\" + 0.012*\"兄弟\" + 0.012*\"克\"\n",
      "0.011*\"时尚\" + 0.008*\"搭配\" + 0.006*\"设计\" + 0.006*\"效果\" + 0.005*\"完美\"\n",
      "0.040*\"选手\" + 0.021*\"化妆\" + 0.019*\"礼物\" + 0.017*\"决赛\" + 0.017*\"军人\"\n",
      "0.024*\"价格\" + 0.012*\"伊朗\" + 0.008*\"敷\" + 0.007*\"黄金\" + 0.005*\"美元\"\n",
      "0.026*\"婚礼\" + 0.020*\"米\" + 0.018*\"南海\" + 0.014*\"小学\" + 0.011*\"博物馆\"\n",
      "0.020*\"品牌\" + 0.019*\"单品\" + 0.015*\"比基尼\" + 0.014*\"奢侈品\" + 0.013*\"朝鲜\"\n",
      "0.023*\"美国\" + 0.011*\"系统\" + 0.009*\"飞行\" + 0.008*\"技术\" + 0.008*\"战争\"\n",
      "0.026*\"老公\" + 0.021*\"高跟鞋\" + 0.017*\"文艺\" + 0.016*\"蔬菜\" + 0.012*\"图为\"\n",
      "0.027*\"观众\" + 0.022*\"导演\" + 0.015*\"节目\" + 0.015*\"饰演\" + 0.012*\"活动\"\n",
      "0.011*\"结婚\" + 0.008*\"考生\" + 0.007*\"食物\" + 0.006*\"工作\" + 0.006*\"对接\"\n"
     ]
    }
   ],
   "source": [
    "for topic in lda.print_topics(num_topics=20, num_words=5):\n",
    "    print (topic[1])"
   ]
  },
  {
   "cell_type": "code",
   "execution_count": 21,
   "metadata": {},
   "outputs": [
    {
     "data": {
      "text/html": [
       "<div>\n",
       "<style scoped>\n",
       "    .dataframe tbody tr th:only-of-type {\n",
       "        vertical-align: middle;\n",
       "    }\n",
       "\n",
       "    .dataframe tbody tr th {\n",
       "        vertical-align: top;\n",
       "    }\n",
       "\n",
       "    .dataframe thead th {\n",
       "        text-align: right;\n",
       "    }\n",
       "</style>\n",
       "<table border=\"1\" class=\"dataframe\">\n",
       "  <thead>\n",
       "    <tr style=\"text-align: right;\">\n",
       "      <th></th>\n",
       "      <th>contents_clean</th>\n",
       "      <th>label</th>\n",
       "    </tr>\n",
       "  </thead>\n",
       "  <tbody>\n",
       "    <tr>\n",
       "      <th>10</th>\n",
       "      <td>[二环, 多处, 桥下, 积水, 车辆, 受阻, 官园, 桥, 阜成门, 桥, 西四, 七条...</td>\n",
       "      <td>汽车</td>\n",
       "    </tr>\n",
       "    <tr>\n",
       "      <th>11</th>\n",
       "      <td>[彩蝶飞舞, 肯定, 车]</td>\n",
       "      <td>汽车</td>\n",
       "    </tr>\n",
       "    <tr>\n",
       "      <th>12</th>\n",
       "      <td>[继, 上个月, 法兰克福, 车展, 本月, 开幕, 日本, 东京, 车展, 带来, 多款,...</td>\n",
       "      <td>汽车</td>\n",
       "    </tr>\n",
       "    <tr>\n",
       "      <th>13</th>\n",
       "      <td>[青年报, 报道, 上周, 英菲尼迪, 国产化, 项目, 湖北, 襄阳, 签约, 第一个, ...</td>\n",
       "      <td>汽车</td>\n",
       "    </tr>\n",
       "    <tr>\n",
       "      <th>14</th>\n",
       "      <td>[江语晨, 名下, 宝马, 座, 驾, 神秘, 更换, 两次, 车牌, 第一次, 台湾, 传...</td>\n",
       "      <td>汽车</td>\n",
       "    </tr>\n",
       "  </tbody>\n",
       "</table>\n",
       "</div>"
      ],
      "text/plain": [
       "                                       contents_clean label\n",
       "10  [二环, 多处, 桥下, 积水, 车辆, 受阻, 官园, 桥, 阜成门, 桥, 西四, 七条...    汽车\n",
       "11                                      [彩蝶飞舞, 肯定, 车]    汽车\n",
       "12  [继, 上个月, 法兰克福, 车展, 本月, 开幕, 日本, 东京, 车展, 带来, 多款,...    汽车\n",
       "13  [青年报, 报道, 上周, 英菲尼迪, 国产化, 项目, 湖北, 襄阳, 签约, 第一个, ...    汽车\n",
       "14  [江语晨, 名下, 宝马, 座, 驾, 神秘, 更换, 两次, 车牌, 第一次, 台湾, 传...    汽车"
      ]
     },
     "execution_count": 21,
     "metadata": {},
     "output_type": "execute_result"
    }
   ],
   "source": [
    "df_train=pd.DataFrame({'contents_clean':contents_clean,'label':df_news['category']})\n",
    "df_train[10:15]"
   ]
  },
  {
   "cell_type": "code",
   "execution_count": 22,
   "metadata": {},
   "outputs": [
    {
     "data": {
      "text/plain": [
       "array(['汽车', '财经', '科技', '健康', '体育', '教育', '文化', '军事', '娱乐', '时尚'],\n",
       "      dtype=object)"
      ]
     },
     "execution_count": 22,
     "metadata": {},
     "output_type": "execute_result"
    }
   ],
   "source": [
    "df_train.label.unique()"
   ]
  },
  {
   "cell_type": "code",
   "execution_count": 23,
   "metadata": {},
   "outputs": [
    {
     "data": {
      "text/html": [
       "<div>\n",
       "<style scoped>\n",
       "    .dataframe tbody tr th:only-of-type {\n",
       "        vertical-align: middle;\n",
       "    }\n",
       "\n",
       "    .dataframe tbody tr th {\n",
       "        vertical-align: top;\n",
       "    }\n",
       "\n",
       "    .dataframe thead th {\n",
       "        text-align: right;\n",
       "    }\n",
       "</style>\n",
       "<table border=\"1\" class=\"dataframe\">\n",
       "  <thead>\n",
       "    <tr style=\"text-align: right;\">\n",
       "      <th></th>\n",
       "      <th>contents_clean</th>\n",
       "      <th>label</th>\n",
       "    </tr>\n",
       "  </thead>\n",
       "  <tbody>\n",
       "    <tr>\n",
       "      <th>0</th>\n",
       "      <td>[编辑, 进口, 合肥, 地区, 经销商, 处, 即日起, 日到, 该店, 购买, 飞思, ...</td>\n",
       "      <td>1</td>\n",
       "    </tr>\n",
       "    <tr>\n",
       "      <th>1</th>\n",
       "      <td>[代表, 王权, 皇冠, 车型, 配置, 图片, 报价, 拥有, 皇冠, 汽车, 足够, 钞...</td>\n",
       "      <td>1</td>\n",
       "    </tr>\n",
       "    <tr>\n",
       "      <th>2</th>\n",
       "      <td>[上半年, 日子, 不好过, 上半年, 京城, 车市, 自主, 品牌, 日子, 难熬, 羡慕...</td>\n",
       "      <td>1</td>\n",
       "    </tr>\n",
       "    <tr>\n",
       "      <th>3</th>\n",
       "      <td>[宾利, 展厅, 一款, 车, 揭开, 真面目, 覆盖, 车, 身上, 天鹅绒, 幕布, 更...</td>\n",
       "      <td>1</td>\n",
       "    </tr>\n",
       "    <tr>\n",
       "      <th>4</th>\n",
       "      <td>[外媒, 通用汽车公司, 德国, 金属, 工业, 工会, 拟, 月份, 欧宝, 重组, 达成...</td>\n",
       "      <td>1</td>\n",
       "    </tr>\n",
       "  </tbody>\n",
       "</table>\n",
       "</div>"
      ],
      "text/plain": [
       "                                      contents_clean  label\n",
       "0  [编辑, 进口, 合肥, 地区, 经销商, 处, 即日起, 日到, 该店, 购买, 飞思, ...      1\n",
       "1  [代表, 王权, 皇冠, 车型, 配置, 图片, 报价, 拥有, 皇冠, 汽车, 足够, 钞...      1\n",
       "2  [上半年, 日子, 不好过, 上半年, 京城, 车市, 自主, 品牌, 日子, 难熬, 羡慕...      1\n",
       "3  [宾利, 展厅, 一款, 车, 揭开, 真面目, 覆盖, 车, 身上, 天鹅绒, 幕布, 更...      1\n",
       "4  [外媒, 通用汽车公司, 德国, 金属, 工业, 工会, 拟, 月份, 欧宝, 重组, 达成...      1"
      ]
     },
     "execution_count": 23,
     "metadata": {},
     "output_type": "execute_result"
    }
   ],
   "source": [
    "label_mapping = {\"汽车\": 1, \"财经\": 2, \"科技\": 3, \"健康\": 4, \"体育\":5, \"教育\": 6,\"文化\": 7,\"军事\": 8,\"娱乐\": 9,\"时尚\": 0}\n",
    "df_train['label'] = df_train['label'].map(label_mapping)\n",
    "df_train.head()"
   ]
  },
  {
   "cell_type": "code",
   "execution_count": 24,
   "metadata": {},
   "outputs": [],
   "source": [
    "from sklearn.model_selection import train_test_split\n",
    "\n",
    "x_train, x_test, y_train, y_test = train_test_split(df_train['contents_clean'].values, df_train['label'].values, random_state=1)"
   ]
  },
  {
   "cell_type": "code",
   "execution_count": 25,
   "metadata": {},
   "outputs": [
    {
     "data": {
      "text/plain": [
       "'高考'"
      ]
     },
     "execution_count": 25,
     "metadata": {},
     "output_type": "execute_result"
    }
   ],
   "source": [
    "x_train[0][1]"
   ]
  },
  {
   "cell_type": "code",
   "execution_count": 26,
   "metadata": {},
   "outputs": [
    {
     "data": {
      "text/plain": [
       "'导读 高考 结束 关注 全国 新课标 卷 高考作文 写 符合 作文 命题 笔者 第一 时间 访问 全国 高考 备考 指导 中心 主任 国家 创新 教育 课题组 成员 远程教育 网络 中心 主任 全国 学雷锋 树新风 宣讲团 副团长 张峰 教授 张峰 教授 长期 高考 命题 研究 教学 工作 连续 三年 考前 预测 全国 新课标 卷 高考作文 中心思想 全国 多个 地区 高考 备考 指导 考前 预测 全国 新课标 卷 高考作文 中心思想 张峰 教授 全国 新课标 卷 高考作文 点评 参与 鞒 秩耍 赫欧 褰 淌 谇 肽 全国 新课标 卷 高考作文 总题 点评 欧 褰 淌 冢 航衲 玻埃 保材 母呖 甲 魑模 全国 卷及 各省 卷 命题 方向 方向 社会 和谐 稳定 社会公德 关注 平凡 岗位 平凡 使命 社会 责任 珍惜 幸福生活 领悟 深刻 做人 道理 勿 善小而 倡导 责任感 使命感 要说 一句 全 涵盖 话 雷锋精神 如果说 考前 讲 高考 命题 方向 弘扬 雷锋精神 考试 结束 预测 高考作文 弘扬 时代 正气 彰显 雷锋精神 提高 公民 素养 体现 社会风尚 主旋律 鞒 秩耍 赫 沤 淌 凇 庇 幸桓 隹 忌 高考 前 石家庄市 燕赵 讲坛 讲过 高考作文 高考作文 应 雷锋精神 社会 文明 思想 道德观念 内容 新课标 全国 卷 作文题目 船主 漆工 请问 张 教授 雷锋精神 欧 褰 淌 冢 晃 铱 梢 庋 船主 漆工 漆工 干 本职工作 船主 著想 顺便 漏洞 补好 一场 海难 挽救 生命 财产 船主 酬谢 漆工 诚心诚意 补漏 什 麽 回报 懂得 感恩 船主 巨额 赠金 留下 一段 诚心 补漏 手有余香 知恩图报 真心 感恩 佳话 船主 漆工 故事 告诉 雷锋 立足 岗位 忠 职守 勤勉 敬业 做好 本职工作 雷锋精神 鞒 秩耍 赫欧 褰 淌 冢 全国 新课标 卷 高考作文 船主 漆工 同学 题 难 欧 褰 淌 冢 何腋 鋈 巳 衔 新课标 卷 高考作文 船主 漆工 主题 难度 适中 平和 审题 为难 考生 有话 作文 命题 符合 新课标 同学 写 思路 宽 鞒 秩耍 耗 趋幔 题目 写 考生 把握住 重点 以什 麽 样 角度 下笔 欧 褰 淌 冢 骸 洞主 漆工 材料 主旨 呼唤 人性 潜意识 善良 材料 采用 寓言故事 命题 形式 改变 以往 两段式 命题 课表 卷 作文 回避 热点 题目 作文 紧贴 时政 学生 无从 入手 作文 同学 思维 思考 四个 角度 入手 保 联想 社会 现象 假设 漆工 漆 船 顺便 漏洞 补 发生 海难 船主 回头 找到 漆工 漆 船 发现 漏洞 漆工 发现 船主 什 麽 补上 漆工 找 美丽 借口 只管 刷漆 补洞 船 补洞 船主 语 事不关己 高高挂起 社会 责任 切入点 不错 立意 呖甲 魑模 内容 充实 尤为 关键 文章 质朴 空泛 说理 文辞 实在 空洞 虚无 不说 教条 语 空洞 话 堆砌 人云亦云 道理 事实 议论 记叙 描述 有血有肉 内容 作文 言之有物 写出 真实 生命 感悟 玻 船主 漆工 故事 告诉 管理 提高 责任意识 生命 话题 考前 石家庄 燕赵 讲坛 多个 作文 指导 课 讲 船主 漆工 故事 面对 考题 关注 漆工 品质 船主 漆工 故事 告诉 真理 漆工 尽已 所能 著 真诚 善良 船主 漆工 故事 告诉 雷锋 弘扬 雷锋 干一行 一行 专 一行 精 一行 敬业精神 一点 时代 雷锋 立足本职 忠 职守 兢兢业业 精益求精 社会 身上 感受 美好 体会 普通人 汲取 精神力量'"
      ]
     },
     "execution_count": 26,
     "metadata": {},
     "output_type": "execute_result"
    }
   ],
   "source": [
    "words = []\n",
    "for line_index in range(len(x_train)):\n",
    "    try:\n",
    "        words.append(' '.join(x_train[line_index]))\n",
    "    except:\n",
    "        print (line_index,word_index)\n",
    "words[0]        "
   ]
  },
  {
   "cell_type": "code",
   "execution_count": 27,
   "metadata": {},
   "outputs": [
    {
     "name": "stdout",
     "output_type": "stream",
     "text": [
      "37500\n"
     ]
    }
   ],
   "source": [
    "print (len(words))"
   ]
  },
  {
   "cell_type": "code",
   "execution_count": 28,
   "metadata": {},
   "outputs": [
    {
     "data": {
      "text/plain": [
       "CountVectorizer(lowercase=False, max_features=4000)"
      ]
     },
     "execution_count": 28,
     "metadata": {},
     "output_type": "execute_result"
    }
   ],
   "source": [
    "from sklearn.feature_extraction.text import CountVectorizer\n",
    "\n",
    "vec = CountVectorizer(analyzer='word', max_features=4000,  lowercase = False)\n",
    "vec.fit(words)\n"
   ]
  },
  {
   "cell_type": "code",
   "execution_count": 29,
   "metadata": {},
   "outputs": [
    {
     "data": {
      "text/plain": [
       "MultinomialNB()"
      ]
     },
     "execution_count": 29,
     "metadata": {},
     "output_type": "execute_result"
    }
   ],
   "source": [
    "from sklearn.naive_bayes import MultinomialNB\n",
    "classifier = MultinomialNB()\n",
    "classifier.fit(vec.transform(words), y_train)"
   ]
  },
  {
   "cell_type": "code",
   "execution_count": 30,
   "metadata": {},
   "outputs": [
    {
     "data": {
      "text/plain": [
       "'变化 山东 高考 专科 本市 报考 优势 萁 樯 埽 山东省 招考 院 政策 调整 专科 录取 批次 专科 批 济南 青岛 单列 优惠 专科 批 发挥作用 填报 专科 志愿 前 山东省 招考 院 划定 填报 志愿 最低 资格 线 录取 划定 录取 最低 分数线 两条线 全省 统一 去年 分地市 划定 往年 山东省 专科 录取 专科 一批 专科 二批 两个 批次 山东省 本科 二批 划定 四条线 青岛 二本 线 省属 线低 优惠 延续 专科 一批 分数 低 青岛 考生 不错 专科 一批 高校 专科 一批 专科 二批 合并 青岛 考生 优势 荡然无存 学校 是从 高分 低分 录取 市 考生 一视同仁 邢拗 疲鹤科 艺术 体育类 文理 类 兼报 玻埃 保材晟蕉省 专科 录取 批次 专科 批 包含 文理 艺术 体育 类别 投档 录取 时间 专科 艺术 体育 考生 填报 志愿 征集 志愿 选报 艺术 体育类 文理 类 填报 兼报 庖 簿 鸵 馕 吨 艺术 生 填报 专科 志愿 抛 艺术 生 身份 选择 填报 文理 类 志愿 兼报 艺术类 文理 类 志愿 山东省 专科 录取 专科 一批 专科 二批 艺术类 考生 专科 一批 录取 艺术 生 专科 一批 填写 艺术类 志愿 专科 二批 兼报 文理 类 志愿 录取 并不矛盾 两全其美 事情 帐踝 科批 设一 志愿 二次 征集 志愿 志愿 二次 征集 志愿 填报 高校 志愿 专业 志愿 专业 服从 调剂 志愿 第二次 征集 志愿 增加 美术 类 专业 高校 服从 调剂 志愿 三次 志愿 填报 时间 志愿 第一次 征集 志愿 第二次 征集 志愿 呖甲科 志愿 只能 填报 三次 玻埃 保材晟蕉省 专科 志愿 填报 三次 机会 专科 高职 批一 志愿 填报 考生 填报 院校 六个 专业 选 院校 专业 服从 调剂 志愿 专科 第一次 征集 志愿 考生 填报 院校 每所 学校 填报 六个 专业 选 院校 专业 服从 调剂 志愿 专科 第二次 征集 志愿 考生 填报 院校 每所 学校 填报 六个 专业 选 院校 专业 服从 调剂 第二次 征集 志愿 考生 填报 院校 专业 服从 调剂 志愿 科 第二次 征集 志愿 录取 结束 补录 或换录 忌 填写 第一 志愿 山东省 招考 院 下发 山东省 普通高校 招生 填报 志愿 指南 专科 高职 一书中 查询 院校 专业 信息 考生 填写 两次 征集 志愿 山东省 教育 招生 考试院 信息网 公布 征集 志愿 计划 为准 玻埃 保材 山东省 专科 一批 专科 二批 合并 专科 批 变化 考生 填报 志愿 众多 专科生 家长 关注 源 耍 专家建议 考生 登录 山东省 教育 招生 考试院 网站 在线 查询 栏目 查阅 批次 录取 投档 情况 参考 往年 录取 情况 分析 学校 招生 专业 考生 报考 专业 选择 送 猓 专科 志愿 填报 院校 考生 稳妥 减少 失误 两次 征集 志愿 选择 院校 考生 冲一冲 稳一稳 保一保 原则 选择 相关 院校 科 两次 征集 志愿 填报 平行 志愿 填报 志愿 减少 投档 退 档 两点 填写 服从 专业 调剂 二要 专业 填报 服从 专业 调剂 栏 空白 调剂 录取 一律 不予 调剂 填写 录取 征求 考生 意见'"
      ]
     },
     "execution_count": 30,
     "metadata": {},
     "output_type": "execute_result"
    }
   ],
   "source": [
    "test_words = []\n",
    "for line_index in range(len(x_test)):\n",
    "    try:\n",
    "        test_words.append(' '.join(x_test[line_index]))\n",
    "    except:\n",
    "         print (line_index,word_index)\n",
    "test_words[0]"
   ]
  },
  {
   "cell_type": "code",
   "execution_count": 31,
   "metadata": {},
   "outputs": [
    {
     "data": {
      "text/plain": [
       "0.7724"
      ]
     },
     "execution_count": 31,
     "metadata": {},
     "output_type": "execute_result"
    }
   ],
   "source": [
    "classifier.score(vec.transform(test_words), y_test)"
   ]
  },
  {
   "cell_type": "code",
   "execution_count": 32,
   "metadata": {},
   "outputs": [
    {
     "data": {
      "text/plain": [
       "TfidfVectorizer(lowercase=False, max_features=4000)"
      ]
     },
     "execution_count": 32,
     "metadata": {},
     "output_type": "execute_result"
    }
   ],
   "source": [
    "from sklearn.feature_extraction.text import TfidfVectorizer\n",
    "\n",
    "vectorizer = TfidfVectorizer(analyzer='word', max_features=4000,  lowercase = False)\n",
    "vectorizer.fit(words)"
   ]
  },
  {
   "cell_type": "code",
   "execution_count": 33,
   "metadata": {},
   "outputs": [
    {
     "data": {
      "text/plain": [
       "MultinomialNB()"
      ]
     },
     "execution_count": 33,
     "metadata": {},
     "output_type": "execute_result"
    }
   ],
   "source": [
    "from sklearn.naive_bayes import MultinomialNB\n",
    "classifier = MultinomialNB()\n",
    "classifier.fit(vectorizer.transform(words), y_train)"
   ]
  },
  {
   "cell_type": "code",
   "execution_count": 34,
   "metadata": {},
   "outputs": [
    {
     "data": {
      "text/plain": [
       "0.7844"
      ]
     },
     "execution_count": 34,
     "metadata": {},
     "output_type": "execute_result"
    }
   ],
   "source": [
    "classifier.score(vectorizer.transform(test_words), y_test)"
   ]
  },
  {
   "cell_type": "code",
   "execution_count": null,
   "metadata": {},
   "outputs": [],
   "source": []
  }
 ],
 "metadata": {
  "anaconda-cloud": {},
  "kernelspec": {
   "display_name": "NLP-env",
   "language": "python",
   "name": "nlp-env"
  },
  "language_info": {
   "codemirror_mode": {
    "name": "ipython",
    "version": 3
   },
   "file_extension": ".py",
   "mimetype": "text/x-python",
   "name": "python",
   "nbconvert_exporter": "python",
   "pygments_lexer": "ipython3",
   "version": "3.7.12"
  }
 },
 "nbformat": 4,
 "nbformat_minor": 1
}
